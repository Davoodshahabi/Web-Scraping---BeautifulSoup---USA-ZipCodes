{
 "cells": [
  {
   "cell_type": "markdown",
   "id": "63d71805",
   "metadata": {},
   "source": [
    "# Zip Codes"
   ]
  },
  {
   "cell_type": "code",
   "execution_count": null,
   "id": "fe671c00",
   "metadata": {},
   "outputs": [],
   "source": [
    "# Load Require Library\n",
    "import pandas as pd\n",
    "import re\n",
    "import numpy as np\n",
    "\n",
    "import time\n",
    "\n",
    "from bs4 import BeautifulSoup\n",
    "import requests\n",
    "import re\n",
    "\n",
    "import xlsxwriter\n",
    "\n",
    "import itertools\n",
    "\n",
    "\n",
    "import warnings\n",
    "warnings.filterwarnings(\"ignore\")"
   ]
  },
  {
   "cell_type": "code",
   "execution_count": null,
   "id": "79fb764e",
   "metadata": {},
   "outputs": [],
   "source": [
    "# for loop  & beautifulsoup to get the zip code info from the https://www.zipdatamaps.com/!\n",
    "\n",
    "zipcodestable = pd.DataFrame()\n",
    "counter = 0\n",
    "\n",
    "for x in range (0,99999)   # We have zip codes, potentially,  between 1 to 99999.\n",
    "    time.sleep(0.05)\n",
    "    t = pd.Timestamp.now()\n",
    "    x = str(x).zfill(5)\n",
    "    \n",
    "    zipurl= 'https://www.zipdatamaps.com/'+str(x)   # Website to use as a source!\n",
    "    res_zip = requests.get(zipurl)\n",
    "    # print(res_zip.status_code)\n",
    "    zipcode_html_text = res_zip.text\n",
    "    # print(zipcode_html_text)\n",
    "    soup = BeautifulSoup(zipcode_html_text,'html.parser' )\n",
    "\n",
    "    table = soup.find_all('table', attrs={\"class\": \"table table-striped table-bordered table-hover table-condensed\"})[0]       \n",
    "    df = pd.read_html(str(table))[0]\n",
    "    df = df.T\n",
    "    df.columns = df.iloc[0]\n",
    "    df = df[1:]\n",
    "#     df\n",
    "\n",
    "    title_text = soup.title\n",
    "    for x in title_text:\n",
    "         ZipCode = re.findall(r'Zip Code (\\d{1,5})',x)\n",
    "\n",
    "    df['zipcode'] = ZipCode\n",
    "#     df\n",
    "    print(counter, df['zipcode'], t, pd.Timestamp.now() - t)\n",
    "    counter+=1\n",
    "    zipcodestable = zipcodestable.append(df)"
   ]
  },
  {
   "cell_type": "code",
   "execution_count": null,
   "id": "6b003372",
   "metadata": {},
   "outputs": [],
   "source": [
    "df"
   ]
  },
  {
   "cell_type": "code",
   "execution_count": null,
   "id": "e4c53f85",
   "metadata": {},
   "outputs": [],
   "source": [
    "zipcodestable.to_csv('zipcodestable_test.csv', index = False)"
   ]
  },
  {
   "cell_type": "code",
   "execution_count": null,
   "id": "0c5757e4",
   "metadata": {},
   "outputs": [],
   "source": [
    "zipcodes2 = pd.read_csv(r'zipcodestable_test.csv', index_col = 'zipcode')\n",
    "zipcodes2 = zipcodes2.rename(columns={'Coordinates(Y,X)':'Coordinates','Current Population:':'Current Pop','Primary County:':'County', 'Unemployment Rate:':'Unemployment_Rate','Racial Majority:':'Racial_Majority','School Test Performance:':'School_Test_Performance','Public School Racial Majority:':'Pub_School_Racial_Majority'})"
   ]
  },
  {
   "cell_type": "code",
   "execution_count": null,
   "id": "d6315357",
   "metadata": {},
   "outputs": [],
   "source": [
    "zipcodes2.dropna(subset = ['Official Zip Code Name'], inplace = True)\n",
    "zipcodes2['Lat']  = zipcodes2['Coordinates'].str.extract('(\\d{2,3}\\.\\d*)\\,')\n",
    "zipcodes2['Lan']  = zipcodes2['Coordinates'].str.extract('\\,\\s?(\\-\\d{2,3}\\.\\d*)')\n",
    "zipcodes2['Area(Sqm)'] = zipcodes2['Area'].str.extract(r'(\\d*)')\n",
    "zipcodes2['Area(Sqm)'] = zipcodes2['Area'].replace('',0)\n",
    "zipcodes2['Pop_Density(per Sqm)'] = (zipcodes2['Current Pop'].astype(float)/ zipcodes2['Area'].astype(float)).round()"
   ]
  },
  {
   "cell_type": "code",
   "execution_count": null,
   "id": "4c0b88f3",
   "metadata": {},
   "outputs": [],
   "source": [
    "zipcodes2.sample(20)"
   ]
  },
  {
   "cell_type": "code",
   "execution_count": null,
   "id": "89f10f0d",
   "metadata": {},
   "outputs": [],
   "source": [
    "zipcodes2[['Official Zip Code Name', 'Zip Code State', 'Zip Code Type', 'County','Current Pop',\n",
    "           'Racial_Majority', 'Unemployment_Rate','Median Household Income',\n",
    "           'School_Test_Performance', 'Elevation Range', 'Area(Sqm)', 'Coordinates',\n",
    "           'Pub_School_Racial_Majority','Alternate Zip Code Names', \n",
    "           'Lat', 'Lan', 'Pop_Density(per Sqm)']].sample(20)"
   ]
  },
  {
   "cell_type": "code",
   "execution_count": null,
   "id": "f30bc004",
   "metadata": {},
   "outputs": [],
   "source": [
    "zipcodes2.to_csv('zipcodestable_final_part3.csv')"
   ]
  },
  {
   "cell_type": "code",
   "execution_count": null,
   "id": "556b97d3",
   "metadata": {},
   "outputs": [],
   "source": [
    "End!"
   ]
  }
 ],
 "metadata": {
  "kernelspec": {
   "display_name": "Python 3",
   "language": "python",
   "name": "python3"
  },
  "language_info": {
   "codemirror_mode": {
    "name": "ipython",
    "version": 3
   },
   "file_extension": ".py",
   "mimetype": "text/x-python",
   "name": "python",
   "nbconvert_exporter": "python",
   "pygments_lexer": "ipython3",
   "version": "3.8.8"
  }
 },
 "nbformat": 4,
 "nbformat_minor": 5
}
